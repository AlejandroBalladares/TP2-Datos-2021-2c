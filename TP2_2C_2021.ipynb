{
  "nbformat": 4,
  "nbformat_minor": 0,
  "metadata": {
    "colab": {
      "name": "TP2-2C-2021.ipynb",
      "provenance": [],
      "collapsed_sections": [
        "hXmS8XCpIHfm",
        "PvIOuaC-Zcec",
        "qABDHn_aSoBE",
        "ESHQLnySXhEE",
        "218Tt6u8YxBF",
        "FKcMzi8XuTJb",
        "AEFyKGx1t-yT"
      ]
    },
    "kernelspec": {
      "display_name": "Python 3",
      "language": "python",
      "name": "python3"
    },
    "language_info": {
      "codemirror_mode": {
        "name": "ipython",
        "version": 3
      },
      "file_extension": ".py",
      "mimetype": "text/x-python",
      "name": "python",
      "nbconvert_exporter": "python",
      "pygments_lexer": "ipython3",
      "version": "3.8.2"
    }
  },
  "cells": [
    {
      "cell_type": "markdown",
      "metadata": {
        "id": "FrKngFDmRYb3"
      },
      "source": [
        "# TP2 Alejandro balladares 101118"
      ]
    },
    {
      "cell_type": "code",
      "metadata": {
        "id": "lWuJC79eO79n",
        "colab": {
          "base_uri": "https://localhost:8080/"
        },
        "outputId": "83e76939-2410-4b88-cb4a-5e7225afcf55"
      },
      "source": [
        "!pip install pyspark\n",
        "!pip install -U -q PyDrive\n",
        "!apt install openjdk-8-jdk-headless -qq\n",
        "import os\n",
        "os.environ[\"JAVA_HOME\"] = \"/usr/lib/jvm/java-8-openjdk-amd64\"\n",
        "\n",
        "from pydrive.auth import GoogleAuth\n",
        "from pydrive.drive import GoogleDrive\n",
        "from google.colab import auth\n",
        "from oauth2client.client import GoogleCredentials\n",
        "from pyspark.sql import *\n",
        "from pyspark.sql.functions import *\n",
        "from pyspark import SparkContext\n",
        "from pyspark.sql import SQLContext\n",
        "import pandas as pd"
      ],
      "execution_count": 1,
      "outputs": [
        {
          "output_type": "stream",
          "name": "stdout",
          "text": [
            "Requirement already satisfied: pyspark in /usr/local/lib/python3.7/dist-packages (3.2.0)\n",
            "Requirement already satisfied: py4j==0.10.9.2 in /usr/local/lib/python3.7/dist-packages (from pyspark) (0.10.9.2)\n",
            "openjdk-8-jdk-headless is already the newest version (8u292-b10-0ubuntu1~18.04).\n",
            "The following package was automatically installed and is no longer required:\n",
            "  libnvidia-common-460\n",
            "Use 'apt autoremove' to remove it.\n",
            "0 upgraded, 0 newly installed, 0 to remove and 37 not upgraded.\n"
          ]
        }
      ]
    },
    {
      "cell_type": "code",
      "metadata": {
        "id": "RhORHjivO_ko"
      },
      "source": [
        "auth.authenticate_user()\n",
        "gauth = GoogleAuth()\n",
        "gauth.credentials = GoogleCredentials.get_application_default()\n",
        "drive = GoogleDrive(gauth)"
      ],
      "execution_count": 2,
      "outputs": []
    },
    {
      "cell_type": "code",
      "metadata": {
        "id": "h3ziIOElPAiW"
      },
      "source": [
        "# create the Spark Session\n",
        "spark = SparkSession.builder.getOrCreate()\n",
        "\n",
        "# create the Spark Context\n",
        "sc = spark.sparkContext"
      ],
      "execution_count": 3,
      "outputs": []
    },
    {
      "cell_type": "markdown",
      "metadata": {
        "id": "JIf09c-YQmfR"
      },
      "source": [
        "1 - 34. ¿Quién es el usuario que más ha bloqueado a otros? (⭐)\n",
        "\n",
        "2 - 19. Cantidad de contenido por planeta fuera de la tierra en la Wikipedia. (⭐)\n",
        "\n",
        "3 - 30. Qué porcentaje de contenido geolocalizado de wikipedia NO está en la tierra (⭐)\n",
        "\n",
        "4 - 32. ¿Cuál es el segundo contenido con más referencias geográficas asignadas? (⭐⭐)\n",
        "\n",
        "5 - 31. Calcule la latitud y longitud promedio de los contenidos con referencias en la tierra y\n",
        "diga dónde está eso (⭐⭐)\n",
        "\n",
        "6 - 40. Si decimos que un usuario sabe un idioma cuando tiene un nivel de babel mayor o\n",
        "igual a 1, para aquellos que editaron una de las versiones actuales del contenido,\n",
        "¿Cuál es la tasa de revisiones sin comentario que realizan en función de los idiomas\n",
        "que saben? (⭐⭐⭐)"
      ]
    },
    {
      "cell_type": "markdown",
      "metadata": {
        "id": "hXmS8XCpIHfm"
      },
      "source": [
        "# Punto 1 \n",
        "\n",
        "34. ¿Quién es el usuario que más ha bloqueado a otros? (⭐)"
      ]
    },
    {
      "cell_type": "code",
      "metadata": {
        "id": "C2wU2XbxIDta",
        "colab": {
          "base_uri": "https://localhost:8080/"
        },
        "outputId": "bcb547ce-6326-4e1f-9761-c8007d8bea4e"
      },
      "source": [
        "id_logs ='1xbwXF1PqfUlCdPUQwdH1WDY6GrogSA3d'\n",
        "downloaded = drive.CreateFile({'id': id_logs})\n",
        "downloaded.GetContentFile('logs.csv')\n",
        "\n",
        "#rdd_logs = spark.sparkContext.textFile('logs.csv')\n",
        "\n",
        "sqlContext = SQLContext(sc)\n",
        "rdd_logs = sqlContext.read.csv('logs.csv',header=True).rdd\n",
        "rdd_logs.take(2)"
      ],
      "execution_count": 4,
      "outputs": [
        {
          "output_type": "stream",
          "name": "stderr",
          "text": [
            "/usr/local/lib/python3.7/dist-packages/pyspark/sql/context.py:79: FutureWarning: Deprecated in 3.0.0. Use SparkSession.builder.getOrCreate() instead.\n",
            "  FutureWarning\n"
          ]
        },
        {
          "output_type": "execute_result",
          "data": {
            "text/plain": [
              "[Row(item_id='1', timestamp='2004-12-23T07:10:09Z', contributor_username='Sabbut', contributor_id='2075', contributor_ip=None, comment=\"el contenido era: 'Si aprendés Pensamiento Científico ... TE VA S AENTERAR'\", logtype='delete', action='delete', title='Verificacionismo'),\n",
              " Row(item_id='2', timestamp='2004-12-23T07:14:09Z', contributor_username='Sabbut', contributor_id='2075', contributor_ip=None, comment=\"el contenido era: '{{destruir}}en algun lugar lejano pero tan cerca como el largo del cuello de una jirafa se encontraba una torre'\", logtype='delete', action='delete', title='Rapunzel')]"
            ]
          },
          "metadata": {},
          "execution_count": 4
        }
      ]
    },
    {
      "cell_type": "code",
      "metadata": {
        "colab": {
          "base_uri": "https://localhost:8080/"
        },
        "id": "ulzrgrmvcKT_",
        "outputId": "ebc7c4d2-6a9c-4557-c15d-5aa52ddffb63"
      },
      "source": [
        "rdd_logs.filter(lambda x: (x.action == 'block') or (x.action == 'reblock'))\\\n",
        ".map(lambda x: ((x.contributor_id, x.contributor_username if x.contributor_username != None else x.contributor_ip), 1))\\\n",
        ".reduceByKey(lambda x,y: x+y).reduce(lambda x,y: x if x[1] > y[1] else y)"
      ],
      "execution_count": 5,
      "outputs": [
        {
          "output_type": "execute_result",
          "data": {
            "text/plain": [
              "(('34991', 'Magister Mathematicae'), 29885)"
            ]
          },
          "metadata": {},
          "execution_count": 5
        }
      ]
    },
    {
      "cell_type": "markdown",
      "metadata": {
        "id": "PvIOuaC-Zcec"
      },
      "source": [
        "# Punto 2\n",
        "\n",
        "19. Cantidad de contenido por planeta fuera de la tierra en la Wikipedia. (⭐)"
      ]
    },
    {
      "cell_type": "code",
      "metadata": {
        "id": "rihy-LKaIVlJ",
        "colab": {
          "base_uri": "https://localhost:8080/"
        },
        "outputId": "d258cd84-5cec-476f-e843-f9295bafe5c7"
      },
      "source": [
        "id_geo_tags = '1EwtdzLu_QXCifu85wH-memXQtX5118lT'\n",
        "downloaded = drive.CreateFile({'id': id_geo_tags})\n",
        "downloaded.GetContentFile('geo_tags.csv')\n",
        "\n",
        "rdd_geo_tags = sqlContext.read.csv('geo_tags.csv',header=True).rdd#.cache() nati me dijo que solo se cachea si calculo algo, no para leer\n",
        "rdd_geo_tags.take(2)"
      ],
      "execution_count": 6,
      "outputs": [
        {
          "output_type": "execute_result",
          "data": {
            "text/plain": [
              "[Row(gt_id='158041', gt_page_id='4328020', gt_globe='earth', gt_primary='0', gt_lat='41.50749969', gt_lon='-5.81750011', gt_dim='1000', gt_type=None, gt_name=None, gt_country=None, gt_region=None),\n",
              " Row(gt_id='5844377', gt_page_id='4670424', gt_globe='earth', gt_primary='0', gt_lat='13.73799992', gt_lon='-89.29199982', gt_dim='10000', gt_type='city', gt_name=None, gt_country=None, gt_region=None)]"
            ]
          },
          "metadata": {},
          "execution_count": 6
        }
      ]
    },
    {
      "cell_type": "code",
      "metadata": {
        "id": "P7X5jqrTf9MT",
        "colab": {
          "base_uri": "https://localhost:8080/"
        },
        "outputId": "ea9ed69d-e41e-405f-c6a0-2c4c43db35eb"
      },
      "source": [
        "rdd_geo_sin_Tierra = rdd_geo_tags.filter(lambda x: (x.gt_globe != 'earth') and (x.gt_globe != None)) #hay uno solo que es None pero igual lo filtro\n",
        "rdd_geo_sin_Tierra.count()"
      ],
      "execution_count": 7,
      "outputs": [
        {
          "output_type": "execute_result",
          "data": {
            "text/plain": [
              "11239"
            ]
          },
          "metadata": {},
          "execution_count": 7
        }
      ]
    },
    {
      "cell_type": "code",
      "metadata": {
        "colab": {
          "base_uri": "https://localhost:8080/"
        },
        "id": "WVoyfPEFIAjU",
        "outputId": "fef53033-4f7a-43f8-f5bc-8816b51a3d91"
      },
      "source": [
        "df_respuesta_2 = rdd_geo_sin_Tierra.map(lambda x: (x.gt_globe, 1)).reduceByKey(lambda x,y: (x+y))\n",
        "df_respuesta_2.collect()#take(18)"
      ],
      "execution_count": 8,
      "outputs": [
        {
          "output_type": "execute_result",
          "data": {
            "text/plain": [
              "[('mars', 1438),\n",
              " ('titan', 4),\n",
              " ('callisto', 3),\n",
              " ('titania', 2),\n",
              " ('hyperion', 1),\n",
              " ('tethys', 1),\n",
              " ('mimas', 1),\n",
              " ('mercury', 561),\n",
              " ('moon', 9061),\n",
              " ('ganymede', 116),\n",
              " ('venus', 24),\n",
              " ('umbriel', 1),\n",
              " ('phobos', 20),\n",
              " ('oberon', 1),\n",
              " ('io', 2),\n",
              " ('deimos', 2),\n",
              " ('enceladus', 1)]"
            ]
          },
          "metadata": {},
          "execution_count": 8
        }
      ]
    },
    {
      "cell_type": "markdown",
      "metadata": {
        "id": "qABDHn_aSoBE"
      },
      "source": [
        "# Punto 3\n",
        "\n",
        "30. Qué porcentaje de contenido geolocalizado de wikipedia NO está en la tierra (⭐)"
      ]
    },
    {
      "cell_type": "code",
      "metadata": {
        "id": "Jg2UFa8gHLT8"
      },
      "source": [
        "#rdd_geo_tags.map(lambda x: ((x.gt_page_id, x.gt_globe))).groupByKey().map(lambda x: (x[0], list(set(list(x[1]))))).filter(lambda x: (len(x[1]) > 2) and (\"earth\" in x[1])).take(11)\n",
        "#comprobación de que hay elemenos editados fuera y dentro de la tierra"
      ],
      "execution_count": 9,
      "outputs": []
    },
    {
      "cell_type": "code",
      "metadata": {
        "colab": {
          "base_uri": "https://localhost:8080/"
        },
        "id": "JHB27e5x0vNP",
        "outputId": "cbb035ce-71e7-4b7e-b30f-b4271024ba55"
      },
      "source": [
        "rdd_respuesta_3 = rdd_geo_tags.map(lambda x: (x.gt_page_id, (1 if x.gt_globe == 'earth' else 0)))\n",
        "rdd_respuesta_3 = rdd_respuesta_3.reduceByKey(lambda x,y: (x + y)) # (id, n° de veces que el contenido apareció en la Tierra)\n",
        "rdd_respuesta_3 = rdd_respuesta_3.map(lambda x: ((1 if x[1] == 0 else 0, 1))) #solo quiero las que no son de la Tierra\n",
        " \n",
        "respuesta_3 = rdd_respuesta_3.reduce(lambda x,y: (x[0] + y[0], x[1] + y[1]))\n",
        "respuesta_3"
      ],
      "execution_count": 10,
      "outputs": [
        {
          "output_type": "execute_result",
          "data": {
            "text/plain": [
              "(2223, 371412)"
            ]
          },
          "metadata": {},
          "execution_count": 10
        }
      ]
    },
    {
      "cell_type": "code",
      "metadata": {
        "colab": {
          "base_uri": "https://localhost:8080/"
        },
        "id": "Kp0Yf4_XESgj",
        "outputId": "d59565cc-9483-4e14-ff25-555af16ea7ef"
      },
      "source": [
        "(respuesta_3[0]*100)/respuesta_3[1]"
      ],
      "execution_count": 11,
      "outputs": [
        {
          "output_type": "execute_result",
          "data": {
            "text/plain": [
              "0.5985267034990792"
            ]
          },
          "metadata": {},
          "execution_count": 11
        }
      ]
    },
    {
      "cell_type": "markdown",
      "metadata": {
        "id": "ESHQLnySXhEE"
      },
      "source": [
        "# Punto 4\n",
        "\n",
        "32. ¿Cuál es el segundo contenido con más referencias geográficas asignadas? (⭐⭐)"
      ]
    },
    {
      "cell_type": "code",
      "metadata": {
        "id": "ov8oIcHFLafI",
        "colab": {
          "base_uri": "https://localhost:8080/"
        },
        "outputId": "15ad26fd-7177-4218-fada-17b9e8500335"
      },
      "source": [
        "id_contents = '1SarxhT65lTj5vztK-QnvrO625qMjCokB'\n",
        "\n",
        "downloaded = drive.CreateFile({'id': id_contents})\n",
        "downloaded.GetContentFile('contents.csv')\n",
        "\n",
        "rdd_contents = sqlContext.read.csv('contents.csv',header=True).rdd#.cache() nati me dijo que solo se cachea si calculo algo, no para leer\n",
        "rdd_contents.take(2)"
      ],
      "execution_count": 12,
      "outputs": [
        {
          "output_type": "execute_result",
          "data": {
            "text/plain": [
              "[Row(title='Wikipedia:Artículos solicitados', id='5', namespace='4', revision_id='132533307', parent_revision='132516631', revision_timestamp='2021-01-19T18:40:34Z', revisor_username='Metrónomo', revisor_id='1708233', revisor_ip=None, revisor_comment='Así esta mejor'),\n",
              " Row(title='Andorra', id='7', namespace='0', revision_id='138035057', parent_revision='138027475', revision_timestamp='2021-08-31T18:27:01Z', revisor_username=None, revisor_id=None, revisor_ip='2800:CD0:FC1B:A900:C5A4:9E81:7175:2ED2', revisor_comment='Añadir contenido')]"
            ]
          },
          "metadata": {},
          "execution_count": 12
        }
      ]
    },
    {
      "cell_type": "code",
      "metadata": {
        "id": "TjyLndStEV-z"
      },
      "source": [
        "rdd_geo_join_4 = rdd_geo_tags.map(lambda x: (x.gt_page_id, 1)).reduceByKey(lambda x,y: x + y )\n",
        "rdd_contents_join_4 = rdd_contents.map(lambda x: (x.id, x.title))"
      ],
      "execution_count": 13,
      "outputs": []
    },
    {
      "cell_type": "code",
      "metadata": {
        "id": "6HiXCG-0EXL_"
      },
      "source": [
        "rdd_respuesta_4 = rdd_geo_join_4.join(rdd_contents_join_4)\n",
        "#rdd_respuesta_4.take(2)"
      ],
      "execution_count": 14,
      "outputs": []
    },
    {
      "cell_type": "code",
      "metadata": {
        "id": "6SCz_dEsXiPL",
        "colab": {
          "base_uri": "https://localhost:8080/"
        },
        "outputId": "37c8ccbb-3f4c-4ed2-e336-daf66d22c6e3"
      },
      "source": [
        "rdd_respuesta_4.map(lambda x: ((x[0], x[1][1]), x[1][0])).takeOrdered(2, lambda x: -x[1])"
      ],
      "execution_count": 15,
      "outputs": [
        {
          "output_type": "execute_result",
          "data": {
            "text/plain": [
              "[(('7421943', 'Wikiproyecto:Madrid/Edificios'), 1424),\n",
              " (('8329856', 'Wikiproyecto:Madrid/Artículos/Wikidata'), 1394)]"
            ]
          },
          "metadata": {},
          "execution_count": 15
        }
      ]
    },
    {
      "cell_type": "markdown",
      "metadata": {
        "id": "218Tt6u8YxBF"
      },
      "source": [
        "# Punto 5\n",
        "\n",
        "31. Calcule la latitud y longitud promedio de los contenidos con referencias en la tierra y\n",
        "diga dónde está eso (⭐⭐)"
      ]
    },
    {
      "cell_type": "code",
      "metadata": {
        "colab": {
          "base_uri": "https://localhost:8080/"
        },
        "id": "wpPAFXL9kTPy",
        "outputId": "f919e5cb-64b4-4c6f-8a30-fdbc832790d4"
      },
      "source": [
        "pip install geopy"
      ],
      "execution_count": 16,
      "outputs": [
        {
          "output_type": "stream",
          "name": "stdout",
          "text": [
            "Requirement already satisfied: geopy in /usr/local/lib/python3.7/dist-packages (1.17.0)\n",
            "Requirement already satisfied: geographiclib<2,>=1.49 in /usr/local/lib/python3.7/dist-packages (from geopy) (1.52)\n"
          ]
        }
      ]
    },
    {
      "cell_type": "code",
      "metadata": {
        "id": "S9WuoNo-ychc"
      },
      "source": [
        "from geopy.geocoders import Nominatim\n",
        "geolocalizador = Nominatim(user_agent=\"my-application\")"
      ],
      "execution_count": 17,
      "outputs": []
    },
    {
      "cell_type": "code",
      "metadata": {
        "id": "UokH6HHVY0nh"
      },
      "source": [
        "rdd_geo_filtrado_5 = rdd_geo_tags.filter(lambda x: (x.gt_globe == 'earth'))"
      ],
      "execution_count": 18,
      "outputs": []
    },
    {
      "cell_type": "code",
      "metadata": {
        "colab": {
          "base_uri": "https://localhost:8080/"
        },
        "id": "pIk1uGySf185",
        "outputId": "ba89938b-2044-4fea-8426-3a853990feb0"
      },
      "source": [
        "#Promedio de todas las ubicaciones\n",
        "rdd_geo_MEAN = rdd_geo_filtrado_5.map(lambda x: (float(x.gt_lat),float(x.gt_lon), 1))\\\n",
        ".reduce(lambda x,y: (x[0] + y[0], x[1] + y[1], x[2]+ y[2]))\n",
        "\n",
        "respuesta_5 = (rdd_geo_MEAN[0]/rdd_geo_MEAN[2], rdd_geo_MEAN[1]/rdd_geo_MEAN[2])\n",
        "respuesta_5"
      ],
      "execution_count": 19,
      "outputs": [
        {
          "output_type": "execute_result",
          "data": {
            "text/plain": [
              "(32.353382400123635, -24.665538716943857)"
            ]
          },
          "metadata": {},
          "execution_count": 19
        }
      ]
    },
    {
      "cell_type": "code",
      "metadata": {
        "colab": {
          "base_uri": "https://localhost:8080/"
        },
        "id": "n3Gqwf4KF2Jx",
        "outputId": "8feb79b2-f0a8-4c3c-c5db-e0f22a278fdf"
      },
      "source": [
        "ubicacion = geolocalizador.reverse(respuesta_5)\n",
        "direccion = ubicacion.address\n",
        "print(direccion) #es en medio del oceano atlantico norte \"cerca\" de Africa\n",
        "\n",
        "#https://www.google.com/maps/place/32%C2%B021'12.2%22N+24%C2%B039'55.9%22W/@39.8831779,-28.3188261,5z/data=!4m5!3m4!1s0x0:0x0!8m2!3d32.3533824!4d-24.6655387"
      ],
      "execution_count": 20,
      "outputs": [
        {
          "output_type": "stream",
          "name": "stdout",
          "text": [
            "None\n"
          ]
        }
      ]
    },
    {
      "cell_type": "code",
      "metadata": {
        "id": "qcEXdf4PCTQo"
      },
      "source": [
        "#ubicacion.raw"
      ],
      "execution_count": 21,
      "outputs": []
    },
    {
      "cell_type": "markdown",
      "metadata": {
        "id": "_FV7JnBfADMR"
      },
      "source": [
        "Al principio entendí que había que hacer esto que sigue, consultando me dijeron que no es lo que se pedía pero lo dejo igual como curiosidad"
      ]
    },
    {
      "cell_type": "code",
      "metadata": {
        "id": "hV02Puv_hEGp"
      },
      "source": [
        "#Promedio de ubicaciones por id de contenido\n",
        "rdd_geo_mean = rdd_geo_filtrado_5.map(lambda x: (x.gt_page_id, (float(x.gt_lat),float(x.gt_lon), 1)))\\\n",
        ".reduceByKey(lambda x,y: (x[0] + y[0], x[1] + y[1], x[2] + y[2]))\\\n",
        ".map(lambda x: (x[0], (x[1][0]/x[1][2], x[1][1]/x[1][2])))"
      ],
      "execution_count": 22,
      "outputs": []
    },
    {
      "cell_type": "code",
      "metadata": {
        "colab": {
          "base_uri": "https://localhost:8080/"
        },
        "id": "gdHDv0oPLX1X",
        "outputId": "bd620e03-4bfc-44ee-bd27-8a49dbef52e7"
      },
      "source": [
        "rdd_respuesta_5 = rdd_geo_mean.map(lambda x: (x[0],(x[1][0],x[1][1], geolocalizador.reverse(str(x[1])).address))) #(id,(lat,long, lugar))\n",
        "rdd_respuesta_5.take(3)"
      ],
      "execution_count": 23,
      "outputs": [
        {
          "output_type": "execute_result",
          "data": {
            "text/plain": [
              "[('4670424',\n",
              "  (13.600648120555554,\n",
              "   -89.16110184166668,\n",
              "   'Municipio de Panchimalco, Departamento de San Salvador, El Salvador')),\n",
              " ('1314296',\n",
              "  (42.13186264,\n",
              "   -4.23173165,\n",
              "   'PP-4140, Valbuena de Pisuerga, Palencia, Castilla y León, 34465, España')),\n",
              " ('1363470',\n",
              "  (11.09305573,\n",
              "   -63.96805573,\n",
              "   'Planta de Tratamiento de Aguas Residuales de Juan Griego, Vereda 8, Juan Griego, Urbanización Francisco Adrián, Parroquia Capital Marcano, Juan Griego, Parroquia Marcano, Municipio Marcano, Nueva Esparta, 6309, Venezuela'))]"
            ]
          },
          "metadata": {},
          "execution_count": 23
        }
      ]
    },
    {
      "cell_type": "markdown",
      "metadata": {
        "id": "Y3qZ0LX1YxlI"
      },
      "source": [
        "# Punto 6\n",
        "\n",
        "40. Si decimos que un usuario sabe un idioma cuando tiene un nivel de babel mayor o\n",
        "igual a 1, para aquellos que editaron una de las versiones actuales del contenido,\n",
        "¿Cuál es la tasa de revisiones sin comentario que realizan en función de los idiomas\n",
        "que saben? (⭐⭐⭐)"
      ]
    },
    {
      "cell_type": "code",
      "metadata": {
        "id": "SI2Z-fu-gBq5",
        "colab": {
          "base_uri": "https://localhost:8080/"
        },
        "outputId": "e44b7ecf-1111-43f6-87f0-c3dfcb0d0975"
      },
      "source": [
        "id_languages = '1GC17kS3UFwcv4qoV0FkDdGH6eNgDFCR0'\n",
        "downloaded = drive.CreateFile({'id': id_languages})\n",
        "downloaded.GetContentFile('languages.csv')\n",
        "\n",
        "rdd_languages = sqlContext.read.csv('languages.csv',header=True).rdd\n",
        "\n",
        "rdd_contents.take(2)\n",
        "\n",
        "#rdd_languages.filter(lambda x: x.babel_user == '90823').take(50)"
      ],
      "execution_count": 24,
      "outputs": [
        {
          "output_type": "execute_result",
          "data": {
            "text/plain": [
              "[Row(title='Wikipedia:Artículos solicitados', id='5', namespace='4', revision_id='132533307', parent_revision='132516631', revision_timestamp='2021-01-19T18:40:34Z', revisor_username='Metrónomo', revisor_id='1708233', revisor_ip=None, revisor_comment='Así esta mejor'),\n",
              " Row(title='Andorra', id='7', namespace='0', revision_id='138035057', parent_revision='138027475', revision_timestamp='2021-08-31T18:27:01Z', revisor_username=None, revisor_id=None, revisor_ip='2800:CD0:FC1B:A900:C5A4:9E81:7175:2ED2', revisor_comment='Añadir contenido')]"
            ]
          },
          "metadata": {},
          "execution_count": 24
        }
      ]
    },
    {
      "cell_type": "code",
      "metadata": {
        "colab": {
          "base_uri": "https://localhost:8080/"
        },
        "id": "8w77be130tiQ",
        "outputId": "71f8f900-882d-4f8e-ac16-8951dc8662e7"
      },
      "source": [
        "rdd_contents_join_6 = rdd_contents.map(lambda x: (x.revisor_id, (1 if x.revisor_comment == None else 0, 1)))\\\n",
        ".reduceByKey(lambda x,y: (x[0] + y[0], x[1] + y[1]))\n",
        "\n",
        "rdd_contents_join_6.take(3) #(usuario , (n° de revisiones sin comentario, revisiones totales))"
      ],
      "execution_count": 25,
      "outputs": [
        {
          "output_type": "execute_result",
          "data": {
            "text/plain": [
              "[(None, (77544, 193756)), ('3615366', (238, 2905)), ('6331749', (38, 47))]"
            ]
          },
          "metadata": {},
          "execution_count": 25
        }
      ]
    },
    {
      "cell_type": "markdown",
      "metadata": {
        "id": "FKcMzi8XuTJb"
      },
      "source": [
        "# Respuesta en formato (cantidad de idiomas, tasa)"
      ]
    },
    {
      "cell_type": "code",
      "metadata": {
        "id": "n-LQGGcOzLf-",
        "colab": {
          "base_uri": "https://localhost:8080/"
        },
        "outputId": "1d44615c-9498-45c1-9b4d-effa70ccc3be"
      },
      "source": [
        "rdd_languages_join = rdd_languages.filter(lambda x: (x.babel_level != '0')).map(lambda x: (x.babel_user, 1)).reduceByKey(lambda x,y: x+y)\n",
        "rdd_languages_join.take(5) #(usuario, cantidad de idiomas)"
      ],
      "execution_count": 26,
      "outputs": [
        {
          "output_type": "execute_result",
          "data": {
            "text/plain": [
              "[('4502458', 3), ('2050449', 7), ('4494742', 10), ('70090', 6), ('407454', 8)]"
            ]
          },
          "metadata": {},
          "execution_count": 26
        }
      ]
    },
    {
      "cell_type": "code",
      "metadata": {
        "id": "XlntvndfXKjX",
        "colab": {
          "base_uri": "https://localhost:8080/"
        },
        "outputId": "d47bf83f-76d5-4919-ee31-d357e69a50a4"
      },
      "source": [
        "rdd_full_cant_idiomas = rdd_contents_join_6.leftOuterJoin(rdd_languages_join)  #(usuario ,((n° de revisiones sin comentario, revisiones totales), cant idiomas))\n",
        "rdd_full_cant_idiomas.take(5)"
      ],
      "execution_count": 27,
      "outputs": [
        {
          "output_type": "execute_result",
          "data": {
            "text/plain": [
              "[(None, ((77544, 193756), None)),\n",
              " ('3615366', ((238, 2905), 4)),\n",
              " ('15514', ((44, 1216), 2)),\n",
              " ('24149', ((1, 3431), None)),\n",
              " ('96461', ((956, 1955), None))]"
            ]
          },
          "metadata": {},
          "execution_count": 27
        }
      ]
    },
    {
      "cell_type": "code",
      "metadata": {
        "id": "f2N5TIQootMG",
        "colab": {
          "base_uri": "https://localhost:8080/"
        },
        "outputId": "08d69cd2-98d5-4148-e58a-7a366123960e"
      },
      "source": [
        "rdd_final = rdd_full_cant_idiomas.map(lambda x: (x[1][1] if (x[1][1] != None) else 0, (x[1][0][0],x[1][0][1]))) #(cant idiomas,(n° de revisiones sin comentario, revisiones totales))\n",
        "rdd_final.take(3)"
      ],
      "execution_count": 28,
      "outputs": [
        {
          "output_type": "execute_result",
          "data": {
            "text/plain": [
              "[(0, (77544, 193756)), (4, (238, 2905)), (2, (44, 1216))]"
            ]
          },
          "metadata": {},
          "execution_count": 28
        }
      ]
    },
    {
      "cell_type": "code",
      "metadata": {
        "colab": {
          "base_uri": "https://localhost:8080/"
        },
        "id": "eIzGnjMgyMPZ",
        "outputId": "c417c6a4-552d-4f7b-a5ba-bc63a2d80ac4"
      },
      "source": [
        "rdd_respuesta_6_cant_idiomas = rdd_final.reduceByKey(lambda x,y: (x[0] + y[0], x[1] + y[1])).map(lambda x: (x[0], (x[1][0]/x[1][1])))\n",
        "rdd_respuesta_6_cant_idiomas.takeOrdered(30, lambda x: -x[0])"
      ],
      "execution_count": 29,
      "outputs": [
        {
          "output_type": "execute_result",
          "data": {
            "text/plain": [
              "[(34, 0.14965986394557823),\n",
              " (24, 0.050936768149882905),\n",
              " (23, 0.0),\n",
              " (22, 0.6974789915966386),\n",
              " (21, 0.5),\n",
              " (18, 0.0),\n",
              " (17, 0.14166666666666666),\n",
              " (16, 0.17582417582417584),\n",
              " (15, 0.0),\n",
              " (14, 0.2215821812596006),\n",
              " (13, 0.3333333333333333),\n",
              " (12, 0.04801720019111323),\n",
              " (11, 0.037037037037037035),\n",
              " (10, 0.09652572482438773),\n",
              " (9, 0.2247191011235955),\n",
              " (8, 0.2643062713339134),\n",
              " (7, 0.06788203086112493),\n",
              " (6, 0.1671043464279972),\n",
              " (5, 0.13079006173540886),\n",
              " (4, 0.14553954031943903),\n",
              " (3, 0.12955704377300453),\n",
              " (2, 0.1930673968510797),\n",
              " (1, 0.2489639885637187),\n",
              " (0, 0.10450331009720965)]"
            ]
          },
          "metadata": {},
          "execution_count": 29
        }
      ]
    },
    {
      "cell_type": "code",
      "metadata": {
        "id": "z0vS9ISd0To6"
      },
      "source": [
        ""
      ],
      "execution_count": 29,
      "outputs": []
    },
    {
      "cell_type": "markdown",
      "metadata": {
        "id": "AEFyKGx1t-yT"
      },
      "source": [
        "# Formato (Idioma, tasa) lo dejo porque ya lo tenía hecho"
      ]
    },
    {
      "cell_type": "code",
      "metadata": {
        "id": "ATIls90uotWa",
        "colab": {
          "base_uri": "https://localhost:8080/"
        },
        "outputId": "6fd2e5f8-c6d6-48cd-debb-2d15fec3818b"
      },
      "source": [
        "rdd_languages_join_2 = rdd_languages.filter(lambda x: (x.babel_level != '0')).map(lambda x: ((x.babel_user, x.babel_lang)))\n",
        "\n",
        "rdd_languages_join_2.take(2)"
      ],
      "execution_count": 30,
      "outputs": [
        {
          "output_type": "execute_result",
          "data": {
            "text/plain": [
              "[('4502458', 'FR'), ('2050449', 'ab')]"
            ]
          },
          "metadata": {},
          "execution_count": 30
        }
      ]
    },
    {
      "cell_type": "code",
      "metadata": {
        "colab": {
          "base_uri": "https://localhost:8080/"
        },
        "id": "dk-5GNB9-GWk",
        "outputId": "cb3c0103-a10b-4e1e-d5bb-644ee81fc6ee"
      },
      "source": [
        "rdd_full_idiomas = rdd_contents_join_6.leftOuterJoin(rdd_languages_join_2)\n",
        "rdd_full_idiomas.take(2)"
      ],
      "execution_count": 31,
      "outputs": [
        {
          "output_type": "execute_result",
          "data": {
            "text/plain": [
              "[(None, ((77544, 193756), None)), ('3615366', ((238, 2905), 'ca'))]"
            ]
          },
          "metadata": {},
          "execution_count": 31
        }
      ]
    },
    {
      "cell_type": "code",
      "metadata": {
        "id": "GvxEcIQaBeZo"
      },
      "source": [
        "rdd_respuesta_6_idiomas = rdd_full_idiomas.map(lambda x: (x[1][1] if x[1][1] != None else 'ninguno', (x[1][0][0], x[1][0][1])))\\\n",
        ".reduceByKey(lambda x,y: (x[0] + y[0], x[1] + y[1]))\\\n",
        ".map(lambda x: (x[0],((x[1][0]/x[1][1]),x[1][1]))).filter(lambda x: x[1][1] > 1000)"
      ],
      "execution_count": 32,
      "outputs": []
    },
    {
      "cell_type": "code",
      "metadata": {
        "colab": {
          "base_uri": "https://localhost:8080/"
        },
        "id": "5MhoyfmTsnDW",
        "outputId": "3ac0b3ef-6c86-48d5-b616-de70ef406ccd"
      },
      "source": [
        "rdd_respuesta_6_idiomas.take(2)"
      ],
      "execution_count": 33,
      "outputs": [
        {
          "output_type": "execute_result",
          "data": {
            "text/plain": [
              "[('ninguno', (0.10450331009720965, 3308211)),\n",
              " ('gl', (0.15099750049836688, 65213))]"
            ]
          },
          "metadata": {},
          "execution_count": 33
        }
      ]
    },
    {
      "cell_type": "code",
      "metadata": {
        "colab": {
          "base_uri": "https://localhost:8080/"
        },
        "id": "_u82d4PlBe1V",
        "outputId": "342270f8-e516-4501-c23a-02e48e527845"
      },
      "source": [
        "#rdd_respuesta_6_idiomas.collect()#.take(191)\n",
        "rdd_respuesta_6_idiomas.takeOrdered(10, lambda x: -x[1][0])#and x[1][1] < 1000)"
      ],
      "execution_count": 34,
      "outputs": [
        {
          "output_type": "execute_result",
          "data": {
            "text/plain": [
              "[('ext', (0.33361250697934114, 7164)),\n",
              " ('gn', (0.30995762711864405, 4720)),\n",
              " ('qu', (0.23919233756148073, 3863)),\n",
              " ('lad', (0.23729384045775834, 2971)),\n",
              " ('nah', (0.23601249644987218, 3521)),\n",
              " ('ie', (0.2229470452801228, 2606)),\n",
              " ('eu', (0.2038064554620846, 16761)),\n",
              " ('bg', (0.20163636363636364, 5500)),\n",
              " ('ia', (0.19873921698739216, 3014)),\n",
              " ('pl', (0.19477621735135844, 7619))]"
            ]
          },
          "metadata": {},
          "execution_count": 34
        }
      ]
    },
    {
      "cell_type": "code",
      "metadata": {
        "id": "DACzL8tcrpTt"
      },
      "source": [
        ""
      ],
      "execution_count": 34,
      "outputs": []
    }
  ]
}